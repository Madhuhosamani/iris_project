{
  "nbformat": 4,
  "nbformat_minor": 0,
  "metadata": {
    "colab": {
      "provenance": []
    },
    "kernelspec": {
      "name": "python3",
      "display_name": "Python 3"
    },
    "language_info": {
      "name": "python"
    }
  },
  "cells": [
    {
      "cell_type": "code",
      "execution_count": 28,
      "metadata": {
        "colab": {
          "base_uri": "https://localhost:8080/"
        },
        "id": "brd6vYEpvSn2",
        "outputId": "f0b086e1-553f-4d66-c8ee-6ba84b81b4c0"
      },
      "outputs": [
        {
          "output_type": "stream",
          "name": "stdout",
          "text": [
            "Best params:{'classifier__C': 1000, 'feature_selection__k': 3}\n",
            " BestScore:0.9629629629629629\n",
            " Features scores:\n"
          ]
        }
      ],
      "source": [
        "import numpy as np\n",
        "import pandas as pd\n",
        "from sklearn.datasets import load_iris\n",
        "from sklearn.feature_selection import mutual_info_classif, SelectKBest\n",
        "from sklearn.model_selection import GridSearchCV, train_test_split\n",
        "from sklearn.pipeline import Pipeline\n",
        "from sklearn.linear_model import LogisticRegression\n",
        "from sklearn.preprocessing import MinMaxScaler\n",
        "import joblib\n",
        "\n",
        "\n",
        "X= pd.DataFrame(load_iris()['data'],columns=load_iris()['feature_names'])\n",
        "y= load_iris()['target']\n",
        "X_train, X_test, y_train, y_test=train_test_split(X, y ,stratify=y, test_size=0.1, random_state=11)\n",
        "\n",
        "\n",
        "def model(X, y):\n",
        "  X = X.copy()\n",
        "  y = y.copy()\n",
        "  pipeline =Pipeline(steps=[[ 'scaler', MinMaxScaler()],['feature_selection', SelectKBest(score_func=mutual_info_classif)], ['classifier', LogisticRegression (random_state=11, max_iter=1000)]])\n",
        "  param_grid = {'feature_selection__k': range (1, X.shape[1]),'classifier__C': [0.001, 0.01, 0.1, 1, 10, 100, 1000]}\n",
        "  grid_search= GridSearchCV (estimator=pipeline,param_grid=param_grid, scoring='accuracy', n_jobs=-1,cv=3)\n",
        "  grid_search.fit(X, y)\n",
        "  return grid_search\n",
        "\n",
        "\n",
        "\n",
        "\n",
        "pipeline = Pipeline(steps=[['scaler', MinMaxScaler()],['feature_selection', SelectKBest(score_func=mutual_info_classif,k=3)], ['classifier', LogisticRegression(random_state=11, max_iter=1000,C=1000)]])\n",
        "\n",
        "\n",
        "pipeline.fit(X_train, y_train)\n",
        "feature_selection =(pipeline['feature_selection']).scores_\n",
        "feature_scores =  {key:value for key, value in zip(X_train.columns,(np.round(pipeline['feature_selection'].scores_,2)))}\n",
        "\n",
        "\n",
        "iris_model = model(X_train, y_train)\n",
        "joblib.dump(iris_model,'iris_model.pkl')\n",
        "print(f'Best params:{iris_model.best_params_}\\n BestScore:{iris_model.best_score_}\\n Features scores:')\n",
        ""
      ]
    },
    {
      "cell_type": "code",
      "source": [
        "!ls"
      ],
      "metadata": {
        "colab": {
          "base_uri": "https://localhost:8080/"
        },
        "id": "3tQszv_90AHW",
        "outputId": "0ba6406f-052a-4a1c-9226-7ecaff776f22"
      },
      "execution_count": 29,
      "outputs": [
        {
          "output_type": "stream",
          "name": "stdout",
          "text": [
            "iris_model.pkl\tsample_data\n"
          ]
        }
      ]
    },
    {
      "cell_type": "code",
      "source": [
        "\n",
        "\n",
        "from google.colab import files\n",
        "files.download('iris_model.pkl')"
      ],
      "metadata": {
        "colab": {
          "base_uri": "https://localhost:8080/",
          "height": 17
        },
        "id": "wpjIPvXdEYWB",
        "outputId": "0ab543f4-9a73-4666-dff4-3729a6331c60"
      },
      "execution_count": 30,
      "outputs": [
        {
          "output_type": "display_data",
          "data": {
            "text/plain": [
              "<IPython.core.display.Javascript object>"
            ],
            "application/javascript": [
              "\n",
              "    async function download(id, filename, size) {\n",
              "      if (!google.colab.kernel.accessAllowed) {\n",
              "        return;\n",
              "      }\n",
              "      const div = document.createElement('div');\n",
              "      const label = document.createElement('label');\n",
              "      label.textContent = `Downloading \"${filename}\": `;\n",
              "      div.appendChild(label);\n",
              "      const progress = document.createElement('progress');\n",
              "      progress.max = size;\n",
              "      div.appendChild(progress);\n",
              "      document.body.appendChild(div);\n",
              "\n",
              "      const buffers = [];\n",
              "      let downloaded = 0;\n",
              "\n",
              "      const channel = await google.colab.kernel.comms.open(id);\n",
              "      // Send a message to notify the kernel that we're ready.\n",
              "      channel.send({})\n",
              "\n",
              "      for await (const message of channel.messages) {\n",
              "        // Send a message to notify the kernel that we're ready.\n",
              "        channel.send({})\n",
              "        if (message.buffers) {\n",
              "          for (const buffer of message.buffers) {\n",
              "            buffers.push(buffer);\n",
              "            downloaded += buffer.byteLength;\n",
              "            progress.value = downloaded;\n",
              "          }\n",
              "        }\n",
              "      }\n",
              "      const blob = new Blob(buffers, {type: 'application/binary'});\n",
              "      const a = document.createElement('a');\n",
              "      a.href = window.URL.createObjectURL(blob);\n",
              "      a.download = filename;\n",
              "      div.appendChild(a);\n",
              "      a.click();\n",
              "      div.remove();\n",
              "    }\n",
              "  "
            ]
          },
          "metadata": {}
        },
        {
          "output_type": "display_data",
          "data": {
            "text/plain": [
              "<IPython.core.display.Javascript object>"
            ],
            "application/javascript": [
              "download(\"download_f0e5a2a7-c05d-415d-9dc9-2babf7436129\", \"iris_model.pkl\", 6547)"
            ]
          },
          "metadata": {}
        }
      ]
    }
  ]
}